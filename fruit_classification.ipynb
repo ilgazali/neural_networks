{
  "nbformat": 4,
  "nbformat_minor": 0,
  "metadata": {
    "colab": {
      "provenance": [],
      "mount_file_id": "1cyZJjlYkAT7sE_Vn2PtHzLJYjmn5Hka2",
      "authorship_tag": "ABX9TyPq04z8lVFBso7Oq+dHpB7j",
      "include_colab_link": true
    },
    "kernelspec": {
      "name": "python3",
      "display_name": "Python 3"
    },
    "language_info": {
      "name": "python"
    }
  },
  "cells": [
    {
      "cell_type": "markdown",
      "metadata": {
        "id": "view-in-github",
        "colab_type": "text"
      },
      "source": [
        "<a href=\"https://colab.research.google.com/github/ilgazali/neural_networks/blob/main/fruit_classification.ipynb\" target=\"_parent\"><img src=\"https://colab.research.google.com/assets/colab-badge.svg\" alt=\"Open In Colab\"/></a>"
      ]
    },
    {
      "cell_type": "code",
      "execution_count": 1,
      "metadata": {
        "id": "1b0EnWR6Adbz"
      },
      "outputs": [],
      "source": [
        "import os\n",
        "import cv2\n",
        "import numpy as np\n"
      ]
    },
    {
      "cell_type": "code",
      "source": [
        "#Bu fonksiyon, belirtilen klasördeki tüm .jpeg dosyalarını okur ve gri ölçekliye dönüştürür. \n",
        "#Ardından, boyutunu 100x100 piksele düşürür ve piksel değerlerini [0,1] aralığına normalize eder. \n",
        "#Etiketler elma veya avakado olarak belirlenir ve rastgele karıştırılır.\n",
        "# Son olarak, fonksiyon görüntüleri ve etiketleri numpy dizileri olarak döndürür.\n",
        "\n",
        "def ReadFiles(folder):\n",
        "    images = []\n",
        "    labels = []\n",
        "    \n",
        "    for subfolder in os.listdir(folder):\n",
        "        subfolder_path = os.path.join(folder, subfolder)\n",
        "        if not os.path.isdir(subfolder_path):\n",
        "            continue\n",
        "        \n",
        "        for filename in os.listdir(subfolder_path):\n",
        "            if filename.endswith('.jpeg'):\n",
        "                img = cv2.imread(os.path.join(subfolder_path, filename))\n",
        "                img = cv2.cvtColor(img, cv2.COLOR_BGR2GRAY)\n",
        "                img = cv2.resize(img, (100, 100))\n",
        "                img = img / 255.0\n",
        "                images.append(img)\n",
        "\n",
        "                label = 1 if subfolder == 'avocado' else 0\n",
        "                labels.append(label)\n",
        "\n",
        "    images = np.array(images)\n",
        "    labels = np.array(labels)\n",
        "\n",
        "    idx = np.random.permutation(len(images))\n",
        "    images, labels = images[idx], labels[idx]\n",
        "\n",
        "    return images, labels\n"
      ],
      "metadata": {
        "id": "lf1A3uzEJfuF"
      },
      "execution_count": 2,
      "outputs": []
    },
    {
      "cell_type": "code",
      "source": [
        "train_folder = '/content/train'\n",
        "test_folder = '/content/test'\n",
        "\n",
        "train_images, train_labels = ReadFiles(train_folder)\n",
        "test_images, test_labels = ReadFiles(test_folder)\n",
        "\n",
        "#check whether everythings are fine\n",
        "print(\"Images shape:\", test_images.shape) \n",
        "print(\"Labels shape:\", test_labels.shape)\n"
      ],
      "metadata": {
        "colab": {
          "base_uri": "https://localhost:8080/"
        },
        "id": "pkw8Zn4RLZWR",
        "outputId": "7fc7ab91-0dcb-47c5-e185-f9a057bc648e"
      },
      "execution_count": 3,
      "outputs": [
        {
          "output_type": "stream",
          "name": "stdout",
          "text": [
            "Images shape: (194, 100, 100)\n",
            "Labels shape: (194,)\n"
          ]
        }
      ]
    },
    {
      "cell_type": "code",
      "source": [
        "from sklearn.decomposition import PCA\n",
        "from sklearn.preprocessing import StandardScaler"
      ],
      "metadata": {
        "id": "O8CcliSZO6Ne"
      },
      "execution_count": 4,
      "outputs": []
    },
    {
      "cell_type": "code",
      "source": [
        "# PCA için verileri yeniden şekillendirin.\n",
        "n_samples_train, height_train, width_train = train_images.shape\n",
        "n_samples_test, height_test, width_test = test_images.shape\n",
        "train_images_reshaped = train_images.reshape(n_samples_train, height_train * width_train)\n",
        "test_images_reshaped = test_images.reshape(n_samples_test, height_test * width_test)\n"
      ],
      "metadata": {
        "id": "4iMBTnptQyGj"
      },
      "execution_count": 5,
      "outputs": []
    },
    {
      "cell_type": "code",
      "source": [
        "# PCA modelini tanımlayın ve eğitin\n",
        "pca = PCA(n_components=50)\n",
        "pca.fit(train_images_reshaped)"
      ],
      "metadata": {
        "colab": {
          "base_uri": "https://localhost:8080/",
          "height": 75
        },
        "id": "izHLdpZzRGTx",
        "outputId": "b59beba6-10e7-4875-de1f-6bf330cc9aa3"
      },
      "execution_count": 6,
      "outputs": [
        {
          "output_type": "execute_result",
          "data": {
            "text/plain": [
              "PCA(n_components=50)"
            ],
            "text/html": [
              "<style>#sk-container-id-1 {color: black;background-color: white;}#sk-container-id-1 pre{padding: 0;}#sk-container-id-1 div.sk-toggleable {background-color: white;}#sk-container-id-1 label.sk-toggleable__label {cursor: pointer;display: block;width: 100%;margin-bottom: 0;padding: 0.3em;box-sizing: border-box;text-align: center;}#sk-container-id-1 label.sk-toggleable__label-arrow:before {content: \"▸\";float: left;margin-right: 0.25em;color: #696969;}#sk-container-id-1 label.sk-toggleable__label-arrow:hover:before {color: black;}#sk-container-id-1 div.sk-estimator:hover label.sk-toggleable__label-arrow:before {color: black;}#sk-container-id-1 div.sk-toggleable__content {max-height: 0;max-width: 0;overflow: hidden;text-align: left;background-color: #f0f8ff;}#sk-container-id-1 div.sk-toggleable__content pre {margin: 0.2em;color: black;border-radius: 0.25em;background-color: #f0f8ff;}#sk-container-id-1 input.sk-toggleable__control:checked~div.sk-toggleable__content {max-height: 200px;max-width: 100%;overflow: auto;}#sk-container-id-1 input.sk-toggleable__control:checked~label.sk-toggleable__label-arrow:before {content: \"▾\";}#sk-container-id-1 div.sk-estimator input.sk-toggleable__control:checked~label.sk-toggleable__label {background-color: #d4ebff;}#sk-container-id-1 div.sk-label input.sk-toggleable__control:checked~label.sk-toggleable__label {background-color: #d4ebff;}#sk-container-id-1 input.sk-hidden--visually {border: 0;clip: rect(1px 1px 1px 1px);clip: rect(1px, 1px, 1px, 1px);height: 1px;margin: -1px;overflow: hidden;padding: 0;position: absolute;width: 1px;}#sk-container-id-1 div.sk-estimator {font-family: monospace;background-color: #f0f8ff;border: 1px dotted black;border-radius: 0.25em;box-sizing: border-box;margin-bottom: 0.5em;}#sk-container-id-1 div.sk-estimator:hover {background-color: #d4ebff;}#sk-container-id-1 div.sk-parallel-item::after {content: \"\";width: 100%;border-bottom: 1px solid gray;flex-grow: 1;}#sk-container-id-1 div.sk-label:hover label.sk-toggleable__label {background-color: #d4ebff;}#sk-container-id-1 div.sk-serial::before {content: \"\";position: absolute;border-left: 1px solid gray;box-sizing: border-box;top: 0;bottom: 0;left: 50%;z-index: 0;}#sk-container-id-1 div.sk-serial {display: flex;flex-direction: column;align-items: center;background-color: white;padding-right: 0.2em;padding-left: 0.2em;position: relative;}#sk-container-id-1 div.sk-item {position: relative;z-index: 1;}#sk-container-id-1 div.sk-parallel {display: flex;align-items: stretch;justify-content: center;background-color: white;position: relative;}#sk-container-id-1 div.sk-item::before, #sk-container-id-1 div.sk-parallel-item::before {content: \"\";position: absolute;border-left: 1px solid gray;box-sizing: border-box;top: 0;bottom: 0;left: 50%;z-index: -1;}#sk-container-id-1 div.sk-parallel-item {display: flex;flex-direction: column;z-index: 1;position: relative;background-color: white;}#sk-container-id-1 div.sk-parallel-item:first-child::after {align-self: flex-end;width: 50%;}#sk-container-id-1 div.sk-parallel-item:last-child::after {align-self: flex-start;width: 50%;}#sk-container-id-1 div.sk-parallel-item:only-child::after {width: 0;}#sk-container-id-1 div.sk-dashed-wrapped {border: 1px dashed gray;margin: 0 0.4em 0.5em 0.4em;box-sizing: border-box;padding-bottom: 0.4em;background-color: white;}#sk-container-id-1 div.sk-label label {font-family: monospace;font-weight: bold;display: inline-block;line-height: 1.2em;}#sk-container-id-1 div.sk-label-container {text-align: center;}#sk-container-id-1 div.sk-container {/* jupyter's `normalize.less` sets `[hidden] { display: none; }` but bootstrap.min.css set `[hidden] { display: none !important; }` so we also need the `!important` here to be able to override the default hidden behavior on the sphinx rendered scikit-learn.org. See: https://github.com/scikit-learn/scikit-learn/issues/21755 */display: inline-block !important;position: relative;}#sk-container-id-1 div.sk-text-repr-fallback {display: none;}</style><div id=\"sk-container-id-1\" class=\"sk-top-container\"><div class=\"sk-text-repr-fallback\"><pre>PCA(n_components=50)</pre><b>In a Jupyter environment, please rerun this cell to show the HTML representation or trust the notebook. <br />On GitHub, the HTML representation is unable to render, please try loading this page with nbviewer.org.</b></div><div class=\"sk-container\" hidden><div class=\"sk-item\"><div class=\"sk-estimator sk-toggleable\"><input class=\"sk-toggleable__control sk-hidden--visually\" id=\"sk-estimator-id-1\" type=\"checkbox\" checked><label for=\"sk-estimator-id-1\" class=\"sk-toggleable__label sk-toggleable__label-arrow\">PCA</label><div class=\"sk-toggleable__content\"><pre>PCA(n_components=50)</pre></div></div></div></div></div>"
            ]
          },
          "metadata": {},
          "execution_count": 6
        }
      ]
    },
    {
      "cell_type": "code",
      "source": [
        "# PCA'ya göre eğitim ve test verilerini dönüştürün\n",
        "train_images_pca = pca.transform(train_images_reshaped)\n",
        "test_images_pca = pca.transform(test_images_reshaped)"
      ],
      "metadata": {
        "id": "SWwNw6u9RPua"
      },
      "execution_count": 7,
      "outputs": []
    },
    {
      "cell_type": "code",
      "source": [
        "# Verileri normalleştirin\n",
        "scaler = StandardScaler()\n",
        "train_images_normalized = scaler.fit_transform(train_images_pca)\n",
        "test_images_normalized = scaler.transform(test_images_pca)"
      ],
      "metadata": {
        "id": "RsrUDHz4RRxp"
      },
      "execution_count": 8,
      "outputs": []
    },
    {
      "cell_type": "code",
      "source": [
        "from sklearn.neural_network import MLPClassifier\n",
        "import matplotlib.pyplot as plt"
      ],
      "metadata": {
        "id": "10r6iVlYSD3T"
      },
      "execution_count": 9,
      "outputs": []
    },
    {
      "cell_type": "code",
      "source": [
        "\n",
        "# Dört yapay sinir ağı modeli için nöron sayıları\n",
        "neuron_numbers = [(5,2), (50,20), (500,200), (5000,1000)]\n",
        "\n",
        "# Her bir modelin doğruluk değerlerini tutacak liste\n",
        "accuracies = []\n",
        "\n",
        "for i, neurons in enumerate(neuron_numbers):\n",
        "    # Yapay sinir ağı modelini tanımla ve eğit\n",
        "    model = MLPClassifier(hidden_layer_sizes=neurons, max_iter=1000, random_state=42)\n",
        "    model.fit(train_images_normalized, train_labels)\n",
        "\n",
        "    # Test verileri üzerinde modelin doğruluğunu hesapla\n",
        "    accuracy = model.score(test_images_normalized, test_labels)\n",
        "    accuracies.append(accuracy)\n",
        "\n",
        "    # Grafik çizdirme için kullanılacak isimleri ve renkleri tanımla\n",
        "    name = str(neurons[0]) + '-' + str(neurons[1])\n",
        "    color = 'C' + str(i)\n",
        "\n",
        "    # Doğruluk değerini grafik olarak çizdir\n",
        "    plt.plot(i, accuracy, marker='o', color=color, label=name)\n",
        "\n",
        "# Grafikleri özelleştir\n",
        "plt.title(\"Accuracy Scores of MLP Models\")\n",
        "plt.xlabel(\"Model Number\")\n",
        "plt.ylabel(\"Accuracy\")\n",
        "plt.xticks(range(len(neuron_numbers)))\n",
        "plt.legend()\n",
        "\n",
        "# Grafikleri göster\n",
        "plt.show()\n",
        "\n",
        "# Sonuçları ekrana yazdır\n",
        "for i, neurons in enumerate(neuron_numbers):\n",
        "    name = str(neurons[0]) + '-' + str(neurons[1])\n",
        "    print(\"Model {} ({} neurons) accuracy: {:.4f}\".format(i+1, name, accuracies[i]))\n",
        "\n",
        "#Sonuç olarak, grafikte gösterildiği gibi, daha büyük nöron sayılarına sahip modeller \n",
        "#daha yüksek doğruluk oranlarına sahip olma eğilimindedir. \n",
        "#En yüksek doğruluk oranına sahip model, 5000 nöronlu ilk gizli katman\n",
        "# ve 1000 nöronlu ikinci gizli katmana sahip olan modeldir."
      ],
      "metadata": {
        "colab": {
          "base_uri": "https://localhost:8080/",
          "height": 599
        },
        "id": "J0cn7g4eSE3c",
        "outputId": "3dab7606-5ecc-4965-be67-c0bd25786518"
      },
      "execution_count": 10,
      "outputs": [
        {
          "output_type": "stream",
          "name": "stderr",
          "text": [
            "/usr/local/lib/python3.9/dist-packages/sklearn/neural_network/_multilayer_perceptron.py:686: ConvergenceWarning: Stochastic Optimizer: Maximum iterations (1000) reached and the optimization hasn't converged yet.\n",
            "  warnings.warn(\n"
          ]
        },
        {
          "output_type": "display_data",
          "data": {
            "text/plain": [
              "<Figure size 640x480 with 1 Axes>"
            ],
            "image/png": "[encoded data removed]"
          },
          "metadata": {}
        },
        {
          "output_type": "stream",
          "name": "stdout",
          "text": [
            "Model 1 (5-2 neurons) accuracy: 0.6598\n",
            "Model 2 (50-20 neurons) accuracy: 0.7113\n",
            "Model 3 (500-200 neurons) accuracy: 0.7268\n",
            "Model 4 (5000-1000 neurons) accuracy: 0.7320\n"
          ]
        }
      ]
    }
  ]
}